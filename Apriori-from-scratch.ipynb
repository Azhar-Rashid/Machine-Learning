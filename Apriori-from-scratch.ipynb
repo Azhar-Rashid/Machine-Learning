{
 "cells": [
  {
   "cell_type": "code",
   "execution_count": 18,
   "metadata": {},
   "outputs": [
    {
     "name": "stdout",
     "output_type": "stream",
     "text": [
      "level 1 output: {'A': 3, 'B': 2, 'C': 2, 'D': 1, 'E': 1, 'F': 1}\n",
      "level 2 output: {('A', 'B'): 1, ('A', 'C'): 2, ('A', 'D'): 1, ('B', 'C'): 1, ('B', 'E'): 1, ('B', 'F'): 1, ('E', 'F'): 1}\n",
      "level 3 output {('A', 'B', 'C'): 1, ('B', 'E', 'F'): 1}\n",
      "Final output reached in 3 steps!\n"
     ]
    }
   ],
   "source": [
    "import pandas as pd\n",
    "import itertools\n",
    "\n",
    "input = pd.read_csv('Data_set1.csv', header = None)\n",
    "r = len(input)\n",
    "c = len(input.columns)\n",
    "\n",
    "\n",
    "data = []\n",
    "for i in range(0, r):\n",
    "    data.append([str(input.values[i,j]) for j in range(0, c)])\n",
    "items = sorted([item for sublist in data for item in sublist if item != 'nan'])\n",
    "\n",
    "\n",
    "support= 1\n",
    "\n",
    "\n",
    "cand = {i:items.count(i) for i in items}\n",
    "level = {}\n",
    "for item, cnt in cand.items():\n",
    "    if cnt >= support:\n",
    "        level[item] = cnt \n",
    "print('level 1 output:',level)\n",
    "\n",
    "\n",
    "level = sorted(list(level.keys()))\n",
    "LEVEL = list(itertools.combinations(level, 2))\n",
    "cand = {}\n",
    "level = {}\n",
    "for i in LEVEL:\n",
    "    count = 0\n",
    "    for j in data:\n",
    "        if (set(i) <= set(j)):\n",
    "            count+=1\n",
    "    cand[i] = count\n",
    "for item, cnt in cand.items():\n",
    "    if cnt >= support:\n",
    "            level[item] = cnt \n",
    "print('level 2 output:',level)\n",
    "\n",
    "k =3\n",
    "while (len(level) != 0):\n",
    "    level = list(level.keys())\n",
    "    LEVEL = sorted(list(set([item for t in level for item in t])))\n",
    "    LEVEL = list(itertools.combinations(LEVEL, k))\n",
    "    cand = {}\n",
    "    level = {}\n",
    "    for i in LEVEL:\n",
    "        count = 0\n",
    "        for j in data:\n",
    "            if (set(i) <= set(j)):\n",
    "                count+=1\n",
    "        cand[i] = count\n",
    "    for item, cnt in cand.items():\n",
    "        if cnt >= support:\n",
    "                level[item] = cnt \n",
    "    if (bool(level)):\n",
    "        print('level', k, 'output', level)\n",
    "        k +=1       \n",
    "    else:\n",
    "        k -= 1\n",
    "        print('Final output reached in', k, 'steps!')\n",
    "\n",
    "\n",
    "\n",
    "\n",
    "\n",
    "\n",
    "\n",
    "\n",
    "\n",
    "\n",
    "\n",
    "\n",
    "\n",
    "\n",
    "\n",
    "\n",
    "\n"
   ]
  },
  {
   "cell_type": "code",
   "execution_count": null,
   "metadata": {},
   "outputs": [],
   "source": []
  },
  {
   "cell_type": "code",
   "execution_count": null,
   "metadata": {},
   "outputs": [],
   "source": []
  },
  {
   "cell_type": "code",
   "execution_count": null,
   "metadata": {},
   "outputs": [],
   "source": []
  },
  {
   "cell_type": "code",
   "execution_count": null,
   "metadata": {},
   "outputs": [],
   "source": []
  }
 ],
 "metadata": {
  "kernelspec": {
   "display_name": "Python 3",
   "language": "python",
   "name": "python3"
  },
  "language_info": {
   "codemirror_mode": {
    "name": "ipython",
    "version": 3
   },
   "file_extension": ".py",
   "mimetype": "text/x-python",
   "name": "python",
   "nbconvert_exporter": "python",
   "pygments_lexer": "ipython3",
   "version": "3.7.4"
  }
 },
 "nbformat": 4,
 "nbformat_minor": 4
}
